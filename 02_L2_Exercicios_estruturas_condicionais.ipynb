{
  "nbformat": 4,
  "nbformat_minor": 0,
  "metadata": {
    "colab": {
      "provenance": [],
      "authorship_tag": "ABX9TyNMs6i6pfITviD3q3oVP86/"
    },
    "kernelspec": {
      "name": "python3",
      "display_name": "Python 3"
    },
    "language_info": {
      "name": "python"
    }
  },
  "cells": [
    {
      "cell_type": "markdown",
      "source": [
        "ESTRUTURAS CONCOCIONAIS 60 EXERCÍCIOS<br>\n",
        "Objetivo: Usar elif, operadores lógicos (and, or, not), combinações de condições.\n"
      ],
      "metadata": {
        "id": "gqFEgKXPVKKJ"
      }
    },
    {
      "cell_type": "markdown",
      "source": [
        "21). Peça um número e classifique como positivo, negativo ou zero.\n"
      ],
      "metadata": {
        "id": "W1mjf7PdV7jB"
      }
    },
    {
      "cell_type": "code",
      "source": [
        "# Solicita um número ao usuário\n",
        "numero = float(input(\"Digite um número: \"))\n",
        "\n",
        "# Classifica o número\n",
        "if numero > 0:\n",
        "    print(\"O número é positivo.\")\n",
        "elif numero < 0:\n",
        "    print(\"O número é negativo.\")\n",
        "else:\n",
        "    print(\"O número é zero.\")"
      ],
      "metadata": {
        "colab": {
          "base_uri": "https://localhost:8080/"
        },
        "id": "uBCtVPVDWDhY",
        "outputId": "06cf8814-af16-48b7-9ca1-f242ad01e453"
      },
      "execution_count": 1,
      "outputs": [
        {
          "output_type": "stream",
          "name": "stdout",
          "text": [
            "Digite um número: 29\n",
            "O número é positivo.\n"
          ]
        }
      ]
    },
    {
      "cell_type": "markdown",
      "source": [
        "22). Peça dois números e mostre o maior, o menor e se são iguais."
      ],
      "metadata": {
        "id": "yJbBX6ZfWRRg"
      }
    },
    {
      "cell_type": "code",
      "source": [
        "# Solicita dois números ao usuário\n",
        "numero1 = float(input(\"Digite o primeiro número: \"))\n",
        "numero2 = float(input(\"Digite o segundo número: \"))\n",
        "\n",
        "# Verifica se são iguais\n",
        "if numero1 == numero2:\n",
        "    print(\"Os dois números são iguais.\")\n",
        "else:\n",
        "    # Mostra maior e menor\n",
        "    if numero1 > numero2:\n",
        "        print(f\"O maior número é {numero1} e o menor é {numero2}.\")\n",
        "    else:\n",
        "        print(f\"O maior número é {numero2} e o menor é {numero1}.\")"
      ],
      "metadata": {
        "colab": {
          "base_uri": "https://localhost:8080/"
        },
        "id": "OdH5fXGhWali",
        "outputId": "45b0a1be-9a81-417d-ecf8-0178317e9bfa"
      },
      "execution_count": 2,
      "outputs": [
        {
          "output_type": "stream",
          "name": "stdout",
          "text": [
            "Digite o primeiro número: 23\n",
            "Digite o segundo número: 24\n",
            "O maior número é 24.0 e o menor é 23.0.\n"
          ]
        }
      ]
    },
    {
      "cell_type": "markdown",
      "source": [
        "23). Peça três números e mostre o maior.\n"
      ],
      "metadata": {
        "id": "NqPYgJKBWwax"
      }
    },
    {
      "cell_type": "code",
      "source": [
        "# Solicita três números ao usuário\n",
        "numero1 = float(input(\"Digite o primeiro número: \"))\n",
        "numero2 = float(input(\"Digite o segundo número: \"))\n",
        "numero3 = float(input(\"Digite o terceiro número: \"))\n",
        "\n",
        "# Encontra o maior número\n",
        "maior = max(numero1, numero2, numero3)\n",
        "\n",
        "print(f\"O maior número é: {maior}\")"
      ],
      "metadata": {
        "colab": {
          "base_uri": "https://localhost:8080/"
        },
        "id": "AQyqxIgpW4kV",
        "outputId": "b953d166-ec13-4e2e-9b8b-c1175109d9cd"
      },
      "execution_count": 4,
      "outputs": [
        {
          "output_type": "stream",
          "name": "stdout",
          "text": [
            "Digite o primeiro número: 102\n",
            "Digite o segundo número: 764\n",
            "Digite o terceiro número: 960\n",
            "O maior número é: 960.0\n"
          ]
        }
      ]
    },
    {
      "cell_type": "markdown",
      "source": [
        "24). Peça três notas, calcule a média e classifique (aprovado/reprovação/recuperação)."
      ],
      "metadata": {
        "id": "6GGk2zKgXMZd"
      }
    },
    {
      "cell_type": "code",
      "source": [
        "# Solicita as três notas ao usuário\n",
        "nota1 = float(input(\"Digite a primeira nota: \"))\n",
        "nota2 = float(input(\"Digite a segunda nota: \"))\n",
        "nota3 = float(input(\"Digite a terceira nota: \"))\n",
        "\n",
        "# Calcula a média\n",
        "media = (nota1 + nota2 + nota3) / 3\n",
        "\n",
        "# Classifica conforme a média\n",
        "if media >= 7:\n",
        "    print(f\"Média: {media:.2f} - Aprovado\")\n",
        "elif media >= 4:\n",
        "    print(f\"Média: {media:.2f} - Recuperação\")\n",
        "else:\n",
        "    print(f\"Média: {media:.2f} - Reprovação\")"
      ],
      "metadata": {
        "colab": {
          "base_uri": "https://localhost:8080/"
        },
        "id": "5y4At9mfXT6s",
        "outputId": "f3bbc445-fb6d-42a9-d034-74b9d7e41d64"
      },
      "execution_count": 5,
      "outputs": [
        {
          "output_type": "stream",
          "name": "stdout",
          "text": [
            "Digite a primeira nota: 5.7\n",
            "Digite a segunda nota: 8.0\n",
            "Digite a terceira nota: 2.5\n",
            "Média: 5.40 - Recuperação\n"
          ]
        }
      ]
    },
    {
      "cell_type": "markdown",
      "source": [
        "25). Peça a idade e classifique como criança, adolescente, adulto ou idoso.\n"
      ],
      "metadata": {
        "id": "266EN0GOXhno"
      }
    },
    {
      "cell_type": "code",
      "source": [
        "# Solicita a idade ao usuário\n",
        "idade = int(input(\"Digite a sua idade: \"))\n",
        "\n",
        "# Classifica conforme a idade\n",
        "if idade < 0:\n",
        "    print(\"Idade inválida.\")\n",
        "elif idade <= 12:\n",
        "    print(\"Criança\")\n",
        "elif idade <= 17:\n",
        "    print(\"Adolescente\")\n",
        "elif idade <= 59:\n",
        "    print(\"Adulto\")\n",
        "else:\n",
        "    print(\"Idoso\")"
      ],
      "metadata": {
        "colab": {
          "base_uri": "https://localhost:8080/"
        },
        "id": "2l6F6G9CXqh9",
        "outputId": "3daf7928-fb00-4bed-93a1-054b77f26646"
      },
      "execution_count": 7,
      "outputs": [
        {
          "output_type": "stream",
          "name": "stdout",
          "text": [
            "Digite a sua idade: 35\n",
            "Adulto\n"
          ]
        }
      ]
    },
    {
      "cell_type": "markdown",
      "source": [
        "26). Peça um número e diga se está no intervalo (10 a 50).\n"
      ],
      "metadata": {
        "id": "2jHfoz3pX9P9"
      }
    },
    {
      "cell_type": "code",
      "source": [
        "# Solicita um número ao usuário\n",
        "numero = float(input(\"Digite um número: \"))\n",
        "\n",
        "# Verifica se o número está no intervalo de 10 a 50\n",
        "if 10 <= numero <= 50:\n",
        "    print(\"O número está no intervalo entre 10 e 50.\")\n",
        "else:\n",
        "    print(\"O número não está no intervalo entre 10 e 50.\")"
      ],
      "metadata": {
        "colab": {
          "base_uri": "https://localhost:8080/"
        },
        "id": "d2BWry41YGSL",
        "outputId": "c933d53b-190a-4b1f-feb6-4e085f42a2f3"
      },
      "execution_count": 9,
      "outputs": [
        {
          "output_type": "stream",
          "name": "stdout",
          "text": [
            "Digite um número: 45\n",
            "O número está no intervalo entre 10 e 50.\n"
          ]
        }
      ]
    },
    {
      "cell_type": "markdown",
      "source": [
        "27). Peça um ano e diga se é bissexto."
      ],
      "metadata": {
        "id": "IZlQmclcYZBb"
      }
    },
    {
      "cell_type": "code",
      "source": [
        "# Solicita o ano ao usuário\n",
        "ano = int(input(\"Digite um ano: \"))\n",
        "\n",
        "# Verifica se o ano é bissexto\n",
        "if (ano % 400 == 0) or (ano % 4 == 0 and ano % 100 != 0):\n",
        "    print(f\"O ano {ano} é bissexto.\")\n",
        "else:\n",
        "    print(f\"O ano {ano} não é bissexto.\")"
      ],
      "metadata": {
        "colab": {
          "base_uri": "https://localhost:8080/"
        },
        "id": "C9voWI_KY0wu",
        "outputId": "64746d1d-338c-4eb0-9897-3b3424db8b1b"
      },
      "execution_count": 12,
      "outputs": [
        {
          "output_type": "stream",
          "name": "stdout",
          "text": [
            "Digite um ano: 1976\n",
            "O ano 1976 é bissexto.\n"
          ]
        }
      ]
    },
    {
      "cell_type": "markdown",
      "source": [
        "28). Peça o valor da compra e calcule o desconto:<br>\n",
        "  100 = 10%<br>\n",
        "  200 = 20%<br>\n",
        "  Senão, 0%"
      ],
      "metadata": {
        "id": "sbpTHsaQZe3K"
      }
    },
    {
      "cell_type": "code",
      "source": [
        "# Pede o valor da compra ao usuário\n",
        "valor_compra = float(input(\"Digite o valor da compra: \"))\n",
        "\n",
        "# Define desconto inicial\n",
        "desconto = 0.0\n",
        "\n",
        "# Aplica desconto para os VALORES EXATOS 100 ou 200 (considerando arredondamento)\n",
        "if round(valor_compra, 2) == 100.00:\n",
        "    desconto = 0.10  # 10%\n",
        "elif round(valor_compra, 2) == 200.00:\n",
        "    desconto = 0.20  # 20%\n",
        "\n",
        "# Calcula o valor final com desconto\n",
        "valor_final = valor_compra * (1 - desconto)\n",
        "\n",
        "# Exibe o resultado\n",
        "print(f\"Valor da compra: R$ {valor_compra:.2f}\")\n",
        "print(f\"Desconto aplicado: {desconto*100:.0f}%\")\n",
        "print(f\"Valor final com desconto: R$ {valor_final:.2f}\")"
      ],
      "metadata": {
        "colab": {
          "base_uri": "https://localhost:8080/"
        },
        "id": "Dx5S8srRbdop",
        "outputId": "9f3342b4-7665-44d1-c8f7-e29197f69933"
      },
      "execution_count": 18,
      "outputs": [
        {
          "output_type": "stream",
          "name": "stdout",
          "text": [
            "Digite o valor da compra: 200\n",
            "Valor da compra: R$ 200.00\n",
            "Desconto aplicado: 20%\n",
            "Valor final com desconto: R$ 160.00\n"
          ]
        }
      ]
    },
    {
      "cell_type": "markdown",
      "source": [
        "29). Peça o login e senha, valide acesso com “admin” / “1234”."
      ],
      "metadata": {
        "id": "yU_C2V0Vc6Vo"
      }
    },
    {
      "cell_type": "code",
      "source": [
        "# Pede o login e a senha ao usuário\n",
        "login = input(\"Digite o login: \")\n",
        "senha = input(\"Digite a senha: \")\n",
        "\n",
        "# Valida o acesso\n",
        "if login == \"admin\" and senha == \"1234\":\n",
        "    print(\"Acesso permitido!\")\n",
        "else:\n",
        "    print(\"Acesso negado!\")"
      ],
      "metadata": {
        "colab": {
          "base_uri": "https://localhost:8080/"
        },
        "id": "LGJWWUbOdMsH",
        "outputId": "0a239083-b922-475f-cffe-e36ba489ab83"
      },
      "execution_count": 20,
      "outputs": [
        {
          "output_type": "stream",
          "name": "stdout",
          "text": [
            "Digite o login: admin\n",
            "Digite a senha: 1234\n",
            "Acesso permitido!\n"
          ]
        }
      ]
    },
    {
      "cell_type": "markdown",
      "source": [
        "30). Peça uma letra e diga se é vogal, consoante ou inválida."
      ],
      "metadata": {
        "id": "EActph5qdj4f"
      }
    },
    {
      "cell_type": "code",
      "source": [
        "# Pede uma letra ao usuário\n",
        "letra = input(\"Digite uma letra: \").strip().lower()\n",
        "\n",
        "# Verifica se foi digitado apenas uma letra do alfabeto\n",
        "if len(letra) == 1 and letra.isalpha():\n",
        "    if letra in 'aeiou':\n",
        "        print(\"É uma vogal.\")\n",
        "    else:\n",
        "        print(\"É uma consoante.\")\n",
        "else:\n",
        "    print(\"Entrada inválida. Digite apenas uma letra.\")"
      ],
      "metadata": {
        "colab": {
          "base_uri": "https://localhost:8080/"
        },
        "id": "2KSpEk0udzIF",
        "outputId": "368e28ca-b916-4b58-a9e7-5e9b5c21a4de"
      },
      "execution_count": 21,
      "outputs": [
        {
          "output_type": "stream",
          "name": "stdout",
          "text": [
            "Digite uma letra: A\n",
            "É uma vogal.\n"
          ]
        }
      ]
    },
    {
      "cell_type": "markdown",
      "source": [
        "31). Peça dois números e uma operação (+, -, *, /) e realize a conta."
      ],
      "metadata": {
        "id": "fa_avV3gd9Ma"
      }
    },
    {
      "cell_type": "code",
      "source": [
        "# Pede os dois números\n",
        "num1 = float(input(\"Digite o primeiro número: \"))\n",
        "num2 = float(input(\"Digite o segundo número: \"))\n",
        "\n",
        "# Pede a operação\n",
        "operacao = input(\"Digite a operação (+, -, *, /): \")\n",
        "\n",
        "# Realiza a operação\n",
        "if operacao == \"+\":\n",
        "    resultado = num1 + num2\n",
        "    print(f\"Resultado: {num1} + {num2} = {resultado}\")\n",
        "elif operacao == \"-\":\n",
        "    resultado = num1 - num2\n",
        "    print(f\"Resultado: {num1} - {num2} = {resultado}\")\n",
        "elif operacao == \"*\":\n",
        "    resultado = num1 * num2\n",
        "    print(f\"Resultado: {num1} * {num2} = {resultado}\")\n",
        "elif operacao == \"/\":\n",
        "    if num2 != 0:\n",
        "        resultado = num1 / num2\n",
        "        print(f\"Resultado: {num1} / {num2} = {resultado}\")\n",
        "    else:\n",
        "        print(\"Erro: divisão por zero!\")\n",
        "else:\n",
        "    print(\"Operação inválida.\")"
      ],
      "metadata": {
        "colab": {
          "base_uri": "https://localhost:8080/"
        },
        "id": "1Q3G8KpreGRO",
        "outputId": "bc1431b1-7164-4621-99e8-6338ba373538"
      },
      "execution_count": 23,
      "outputs": [
        {
          "output_type": "stream",
          "name": "stdout",
          "text": [
            "Digite o primeiro número: 2\n",
            "Digite o segundo número: 7\n",
            "Digite a operação (+, -, *, /): +\n",
            "Resultado: 2.0 + 7.0 = 9.0\n"
          ]
        }
      ]
    },
    {
      "cell_type": "markdown",
      "source": [
        "32). Peça a idade e se tem carteira de motorista. Diga se pode dirigir."
      ],
      "metadata": {
        "id": "SsoT8ef9ed1a"
      }
    },
    {
      "cell_type": "code",
      "source": [
        "# Pede a idade\n",
        "idade = int(input(\"Digite sua idade: \"))\n",
        "\n",
        "# Pede se tem carteira de motorista (S/N)\n",
        "carteira = input(\"Você possui carteira de motorista? (S/N): \").strip().upper()\n",
        "\n",
        "# Verifica se pode dirigir\n",
        "if idade >= 18 and carteira == \"S\":\n",
        "    print(\"Você pode dirigir.\")\n",
        "else:\n",
        "    print(\"Você não pode dirigir.\")"
      ],
      "metadata": {
        "colab": {
          "base_uri": "https://localhost:8080/"
        },
        "id": "C7BiZbTpetDM",
        "outputId": "901ce941-9a54-4442-d4f7-44eeccaae504"
      },
      "execution_count": 27,
      "outputs": [
        {
          "output_type": "stream",
          "name": "stdout",
          "text": [
            "Digite sua idade: 40\n",
            "Você possui carteira de motorista? (S/N): s\n",
            "Você pode dirigir.\n"
          ]
        }
      ]
    },
    {
      "cell_type": "markdown",
      "source": [
        "33). Peça dois números e diga se ambos são pares."
      ],
      "metadata": {
        "id": "ma3omYfRfFeL"
      }
    },
    {
      "cell_type": "code",
      "source": [
        "# Peça dois números ao usuário\n",
        "num1 = int(input(\"Digite o primeiro número: \"))\n",
        "num2 = int(input(\"Digite o segundo número: \"))\n",
        "\n",
        "# Verifique se ambos são pares\n",
        "if num1 % 2 == 0 and num2 % 2 == 0:\n",
        "    print(\"Ambos os números são pares.\")\n",
        "else:\n",
        "    print(\"Pelo menos um dos números não é par.\")2"
      ],
      "metadata": {
        "colab": {
          "base_uri": "https://localhost:8080/"
        },
        "id": "xdfGo_-lfr-w",
        "outputId": "ee29b414-ce12-4be9-bfc4-2e9957f87f8f"
      },
      "execution_count": 28,
      "outputs": [
        {
          "output_type": "stream",
          "name": "stdout",
          "text": [
            "Digite o primeiro número: 35\n",
            "Digite o segundo número: 0\n",
            "Pelo menos um dos números não é par.\n"
          ]
        }
      ]
    },
    {
      "cell_type": "markdown",
      "source": [
        "34). Peça um número e verifique se é múltiplo de 3 e de 5.\n"
      ],
      "metadata": {
        "id": "OFEeM7cKgPAg"
      }
    },
    {
      "cell_type": "code",
      "source": [
        "# Peça um número ao usuário\n",
        "numero = int(input(\"Digite um número: \"))\n",
        "\n",
        "# Verifique se é múltiplo de 3 e de 5\n",
        "if numero % 3 == 0 and numero % 5 == 0:\n",
        "    print(\"O número é múltiplo de 3 e de 5.\")\n",
        "else:\n",
        "    print(\"O número NÃO é múltiplo de 3 e de 5.\")"
      ],
      "metadata": {
        "colab": {
          "base_uri": "https://localhost:8080/"
        },
        "id": "0T-L1T3RgVf-",
        "outputId": "888d8662-6e11-4655-d9ec-f068f5c2eceb"
      },
      "execution_count": 29,
      "outputs": [
        {
          "output_type": "stream",
          "name": "stdout",
          "text": [
            "Digite um número: 20\n",
            "O número NÃO é múltiplo de 3 e de 5.\n"
          ]
        }
      ]
    },
    {
      "cell_type": "markdown",
      "source": [
        "35). Peça uma nota e classifique:<br>\n",
        "<5 → insuficiente<br>\n",
        "5 a 7 → suficiente<br>\n",
        "7 → ótimo"
      ],
      "metadata": {
        "id": "sY7sEtvPgqKJ"
      }
    },
    {
      "cell_type": "code",
      "source": [
        "# Peça a nota ao usuário\n",
        "nota = float(input(\"Digite a nota (0 a 10): \"))\n",
        "\n",
        "# Classifique a nota\n",
        "if nota < 5:\n",
        "    print(\"Classificação: Insuficiente\")\n",
        "elif 5 <= nota < 7:\n",
        "    print(\"Classificação: Suficiente\")\n",
        "elif nota == 7:\n",
        "    print(\"Classificação: Ótimo\")\n",
        "else:\n",
        "    print(\"Classificação: Acima de Ótimo\")"
      ],
      "metadata": {
        "colab": {
          "base_uri": "https://localhost:8080/"
        },
        "id": "dh-PGMErg8is",
        "outputId": "34e2b7b7-2cf5-4620-ba61-b091397fe137"
      },
      "execution_count": 30,
      "outputs": [
        {
          "output_type": "stream",
          "name": "stdout",
          "text": [
            "Digite a nota (0 a 10): 6.8\n",
            "Classificação: Suficiente\n"
          ]
        }
      ]
    },
    {
      "cell_type": "markdown",
      "source": [
        "36). Peça a quantidade de faltas e a média. Reprova se média <6 ou faltas >5.\n"
      ],
      "metadata": {
        "id": "tGuWjwdHhepA"
      }
    },
    {
      "cell_type": "code",
      "source": [
        "# Peça a média e a quantidade de faltas\n",
        "media = float(input(\"Digite a média do aluno: \"))\n",
        "faltas = int(input(\"Digite a quantidade de faltas: \"))\n",
        "\n",
        "# Verifique se foi aprovado ou reprovado\n",
        "if media < 6 or faltas > 5:\n",
        "    print(\"Aluno REPROVADO.\")\n",
        "else:\n",
        "    print(\"Aluno APROVADO.\")"
      ],
      "metadata": {
        "colab": {
          "base_uri": "https://localhost:8080/"
        },
        "id": "T7nFr9P1hsJD",
        "outputId": "e100b965-d472-4c6f-8f36-77402f4567c3"
      },
      "execution_count": 32,
      "outputs": [
        {
          "output_type": "stream",
          "name": "stdout",
          "text": [
            "Digite a média do aluno: 7\n",
            "Digite a quantidade de faltas: 3\n",
            "Aluno APROVADO.\n"
          ]
        }
      ]
    },
    {
      "cell_type": "markdown",
      "source": [
        "37). Peça a senha e diga se é forte (>=8 caracteres e tem número)."
      ],
      "metadata": {
        "id": "WmMOQNF2iyy1"
      }
    },
    {
      "cell_type": "markdown",
      "source": [
        "Explicando linha de comando: for char in senha\n",
        "— Isso é um loop que percorre cada caractere (char) dentro da string senha. Por exemplo, se a senha for \"abc123\", ele vai analisar 'a', depois 'b', depois 'c', depois '1', etc.\n",
        "\n",
        "char.isdigit()\n",
        "— Para cada caractere, essa função retorna True se o caractere for um dígito numérico (ou seja, um número de 0 a 9), e False caso contrário.\n",
        "Exemplo:\n",
        "\n",
        "'1'.isdigit() → True\n",
        "\n",
        "'a'.isdigit() → False\n",
        "\n",
        "any(...)\n",
        "— A função any() recebe um iterável (como uma lista, gerador, etc.) de valores booleanos e retorna True se pelo menos um desses valores for True. Se todos forem False, retorna False.\n",
        "\n",
        "No contexto completo:\n",
        "any(char.isdigit() for char in senha) significa:\n",
        "\n",
        "\"Olhe cada caractere na senha e verifique se ele é um número.\"\n",
        "\n",
        "\"Se pelo menos um caractere for número, retorne True.\"\n",
        "\n",
        "\"Se nenhum caractere for número, retorne False.\""
      ],
      "metadata": {
        "id": "FAdGU0LDjrWF"
      }
    },
    {
      "cell_type": "code",
      "source": [
        "# Peça a senha ao usuário\n",
        "senha = input(\"Digite a senha: \")\n",
        "\n",
        "# Verifica se a senha tem pelo menos 8 caracteres\n",
        "tem_tamanho = len(senha) >= 8\n",
        "\n",
        "# Verifica se tem pelo menos um número\n",
        "tem_numero = any(char.isdigit() for char in senha)\n",
        "\n",
        "# Resultado\n",
        "if tem_tamanho and tem_numero:\n",
        "    print(\"Senha forte.\")\n",
        "else:\n",
        "    print(\"Senha fraca. Deve ter pelo menos 8 caracteres e conter ao menos um número.\")"
      ],
      "metadata": {
        "colab": {
          "base_uri": "https://localhost:8080/"
        },
        "id": "js2Ds48ni_Hk",
        "outputId": "992a0d3b-448a-4288-c037-c2fd6bcc0d3a"
      },
      "execution_count": 34,
      "outputs": [
        {
          "output_type": "stream",
          "name": "stdout",
          "text": [
            "Digite a senha: 1#de&g213vdFF\n",
            "Senha forte.\n"
          ]
        }
      ]
    },
    {
      "cell_type": "markdown",
      "source": [
        "38). Peça dois números e diga se pelo menos um deles é par."
      ],
      "metadata": {
        "id": "6gfPMFRlkJXW"
      }
    },
    {
      "cell_type": "code",
      "source": [
        "# Pede dois números ao usuário\n",
        "num1 = int(input(\"Digite o primeiro número: \"))\n",
        "num2 = int(input(\"Digite o segundo número: \"))\n",
        "\n",
        "# Verifica se pelo menos um dos números é par\n",
        "if num1 % 2 == 0 or num2 % 2 == 0:\n",
        "    print(\"Pelo menos um dos números é par.\")\n",
        "else:\n",
        "    print(\"Nenhum dos números é par.\")"
      ],
      "metadata": {
        "colab": {
          "base_uri": "https://localhost:8080/"
        },
        "id": "Q2of_5T_lCAE",
        "outputId": "67172c28-2ef0-4b43-c26b-49f8de2e1e3a"
      },
      "execution_count": 35,
      "outputs": [
        {
          "output_type": "stream",
          "name": "stdout",
          "text": [
            "Digite o primeiro número: 21\n",
            "Digite o segundo número: 35\n",
            "Nenhum dos números é par.\n"
          ]
        }
      ]
    },
    {
      "cell_type": "markdown",
      "source": [
        "39). Peça um número de 1 a 7 e mostre o dia da semana correspondente."
      ],
      "metadata": {
        "id": "_BmP0NualRPS"
      }
    },
    {
      "cell_type": "code",
      "source": [
        "# Pede um número de 1 a 7\n",
        "num = int(input(\"Digite um número de 1 a 7: \"))\n",
        "\n",
        "# Verifica e mostra o dia da semana correspondente\n",
        "if num == 1:\n",
        "    print(\"Domingo\")\n",
        "elif num == 2:\n",
        "    print(\"Segunda-feira\")\n",
        "elif num == 3:\n",
        "    print(\"Terça-feira\")\n",
        "elif num == 4:\n",
        "    print(\"Quarta-feira\")\n",
        "elif num == 5:\n",
        "    print(\"Quinta-feira\")\n",
        "elif num == 6:\n",
        "    print(\"Sexta-feira\")\n",
        "elif num == 7:\n",
        "    print(\"Sábado\")\n",
        "else:\n",
        "    print(\"Número inválido! Digite um número entre 1 e 7.\")"
      ],
      "metadata": {
        "colab": {
          "base_uri": "https://localhost:8080/"
        },
        "id": "Cukz8SSQldRC",
        "outputId": "32f5f185-72e0-4a7d-cd87-50e5df896aff"
      },
      "execution_count": 37,
      "outputs": [
        {
          "output_type": "stream",
          "name": "stdout",
          "text": [
            "Digite um número de 1 a 7: 5\n",
            "Quinta-feira\n"
          ]
        }
      ]
    },
    {
      "cell_type": "markdown",
      "source": [
        "40). Peça três lados e diga se formam um triângulo (e qual tipo: equilátero, isósceles, escaleno)."
      ],
      "metadata": {
        "id": "jICcAL9Kl2sD"
      }
    },
    {
      "cell_type": "code",
      "source": [
        "# Pede os lados do triângulo\n",
        "a = float(input(\"Digite o lado 1: \"))\n",
        "b = float(input(\"Digite o lado 2: \"))\n",
        "c = float(input(\"Digite o lado 3: \"))\n",
        "\n",
        "# Verifica se formam um triângulo (desigualdade triangular)\n",
        "if (a < b + c) and (b < a + c) and (c < a + b):\n",
        "    # Se formam, verifica o tipo\n",
        "    if a == b == c:\n",
        "        print(\"Triângulo equilátero\")\n",
        "    elif a == b or b == c or a == c:\n",
        "        print(\"Triângulo isósceles\")\n",
        "    else:\n",
        "        print(\"Triângulo escaleno\")\n",
        "else:\n",
        "    print(\"Os lados não formam um triângulo.\")"
      ],
      "metadata": {
        "colab": {
          "base_uri": "https://localhost:8080/"
        },
        "id": "Xvj95_XamOiq",
        "outputId": "dd54e888-2689-4591-b53d-2aad157be23a"
      },
      "execution_count": 38,
      "outputs": [
        {
          "output_type": "stream",
          "name": "stdout",
          "text": [
            "Digite o lado 1: 3\n",
            "Digite o lado 2: 3\n",
            "Digite o lado 3: 4\n",
            "Triângulo isósceles\n"
          ]
        }
      ]
    }
  ]
}